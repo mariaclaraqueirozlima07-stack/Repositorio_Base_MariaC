{
 "cells": [
  {
   "cell_type": "code",
   "execution_count": null,
   "id": "43148b61",
   "metadata": {},
   "outputs": [
    {
     "name": "stdout",
     "output_type": "stream",
     "text": [
      "Maria Clara\n",
      "17\n"
     ]
    }
   ],
   "source": [
    "nome = input(\"Qual é o seu nome?\")\n",
    "print(nome)\n",
    "idade = input(\"Qual é a sua idade?\")\n",
    "print(idade)"
   ]
  },
  {
   "cell_type": "markdown",
   "id": "56ccccf0",
   "metadata": {},
   "source": [
    "### Quero te conhecer melhor"
   ]
  },
  {
   "cell_type": "code",
   "execution_count": null,
   "id": "87967753",
   "metadata": {},
   "outputs": [
    {
     "name": "stdout",
     "output_type": "stream",
     "text": [
      "Maria Clara\n",
      "Assistir netflix\n",
      "Live this moment\n"
     ]
    }
   ],
   "source": [
    "nome = input(\"Qual é o seu nome?\")\n",
    "print (nome)\n",
    "hobbie = input(\"Qual é o seu hobbie favorito?\")\n",
    "print(hobbie)\n",
    "musica = input(\"Qual é a sua música favorita\")\n",
    "print(musica)"
   ]
  },
  {
   "cell_type": "markdown",
   "id": "a27a8288",
   "metadata": {},
   "source": [
    "### If e Else"
   ]
  },
  {
   "cell_type": "code",
   "execution_count": null,
   "id": "35be0f1d",
   "metadata": {},
   "outputs": [
    {
     "name": "stdout",
     "output_type": "stream",
     "text": [
      "Você foi aprovada\n"
     ]
    }
   ],
   "source": [
    "media = input(\"Digite a média\")\n",
    "if media >= input(\"Digite a média\"):\n",
    "    print(\"Você foi aprovada\")\n",
    "else:\n",
    "    print(\"Você foi reprovada\")    "
   ]
  },
  {
   "cell_type": "markdown",
   "id": "87614eca",
   "metadata": {},
   "source": [
    "### Calcule a nota "
   ]
  },
  {
   "cell_type": "code",
   "execution_count": null,
   "id": "9ef2e111",
   "metadata": {},
   "outputs": [
    {
     "name": "stdout",
     "output_type": "stream",
     "text": [
      "Você foi aprovada\n"
     ]
    }
   ],
   "source": [
    "nota1 = float(input(\"Digite a primeira nota\"))\n",
    "nota2 = float(input(\"Digite a segunda nota\"))\n",
    "nota3 = float(input(\"Digite a terceira nota\"))\n",
    "media = (nota1 + nota2 + nota3)/3\n",
    "if media >=5:\n",
    "    print(\"Você foi aprovada\")\n",
    "else:\n",
    "    print(\"Você foi reprovada\")\n"
   ]
  },
  {
   "cell_type": "markdown",
   "id": "d5260dc3",
   "metadata": {},
   "source": [
    "### Contatinho"
   ]
  },
  {
   "cell_type": "code",
   "execution_count": 24,
   "id": "9a142745",
   "metadata": {},
   "outputs": [
    {
     "name": "stdout",
     "output_type": "stream",
     "text": [
      "Eu te amo\n"
     ]
    }
   ],
   "source": [
    "nome = input(\"Qual é o seu nome\")\n",
    "numero = input(\"Qual é seu numero\")\n",
    "crush = \"Josh Beauchamp\"\n",
    "if nome == crush:\n",
    "    print(\"Eu te amo\")\n",
    "else:\n",
    "    print(\"Sai fora\")"
   ]
  },
  {
   "cell_type": "markdown",
   "id": "0ac2600e",
   "metadata": {},
   "source": [
    "### Música favorita"
   ]
  },
  {
   "cell_type": "code",
   "execution_count": null,
   "id": "f76fb88f",
   "metadata": {},
   "outputs": [
    {
     "name": "stdout",
     "output_type": "stream",
     "text": [
      "Eu também gosto dessa música\n"
     ]
    }
   ],
   "source": [
    "musica = input(\"Qual é a sua musica favorita?\")\n",
    "minha_musica =\"live this moment\"\n",
    "if musica == minha_musica:\n",
    "    print(\"Eu também gosto dessa música\")\n",
    "else:\n",
    "    print(\"Essa música é muito ruim\")"
   ]
  },
  {
   "cell_type": "markdown",
   "id": "d83f9a57",
   "metadata": {},
   "source": [
    "### Fabrica de Programadores"
   ]
  },
  {
   "cell_type": "code",
   "execution_count": 3,
   "id": "99252454",
   "metadata": {},
   "outputs": [
    {
     "name": "stdout",
     "output_type": "stream",
     "text": [
      "Bem vinda, vamos fazer programas\n"
     ]
    }
   ],
   "source": [
    "serie = input(\"Em qual série você esta?\")\n",
    "minha_serie = \"3 ano\"\n",
    "colegio = input(\"Você estuda em um Colégio Municipal de Santana de Parnaíba?\")\n",
    "meu_colegio = \"sim\"\n",
    "if serie == minha_serie and colegio == meu_colegio:\n",
    "    print(\"Bem vinda, vamos fazer programas\")\n",
    "else:\n",
    "    print(\"Infelismente, você não vai poder fazer o Curso\") "
   ]
  },
  {
   "cell_type": "markdown",
   "id": "7264861f",
   "metadata": {},
   "source": [
    "### Melhor música do mundo "
   ]
  },
  {
   "cell_type": "code",
   "execution_count": null,
   "id": "228325fc",
   "metadata": {},
   "outputs": [
    {
     "name": "stdout",
     "output_type": "stream",
     "text": [
      "Essa música é muito boa\n"
     ]
    }
   ],
   "source": [
    "musica = input(\"Qual é a melhor música do mundo?\")\n",
    "melhor_musica_do_mundo = \"live this moment\"\n",
    "cantor = input(\"Quem canta essa música?\")\n",
    "quem_canta = \"now united\"\n",
    "if musica == melhor_musica_do_mundo and cantor == quem_canta:\n",
    "    print(\"Essa música é muito boa\")\n",
    "else:\n",
    "    print(\"Que mal gosto\")"
   ]
  },
  {
   "cell_type": "markdown",
   "id": "a90209ee",
   "metadata": {},
   "source": [
    "### Contatinho 2"
   ]
  },
  {
   "cell_type": "code",
   "execution_count": 8,
   "id": "1016b912",
   "metadata": {},
   "outputs": [
    {
     "name": "stdout",
     "output_type": "stream",
     "text": [
      "Eu te amo\n"
     ]
    }
   ],
   "source": [
    "nome = input(\"Qual é o seu nome \")\n",
    "crush1 = \"Josh Beauchamp\"\n",
    "crush2 = \"Justin Biber\"\n",
    "if nome == crush1:\n",
    "    print(\"Eu te amo\")\n",
    "elif nome == crush2:\n",
    "    print(\"Também te amo\")\n",
    "else:\n",
    "    print(\"Sai fora\")"
   ]
  },
  {
   "cell_type": "markdown",
   "id": "0800cf09",
   "metadata": {},
   "source": [
    "### Medidor de temperatura"
   ]
  },
  {
   "cell_type": "code",
   "execution_count": 31,
   "id": "dad2a8a7",
   "metadata": {},
   "outputs": [
    {
     "name": "stdout",
     "output_type": "stream",
     "text": [
      "Está muito frio\n"
     ]
    }
   ],
   "source": [
    "temperatura = int(input(\"Qual é a temperatura?\"))\n",
    "temperatura_maxima = 35\n",
    "temperatura_ambiente = 25\n",
    "temperatura_minima = 15\n",
    "if temperatura >= temperatura_maxima:\n",
    "    print(\"Está muito calor\")\n",
    "elif temperatura >= temperatura_ambiente and temperatura < temperatura_maxima:\n",
    "    print(\"Está normal\")\n",
    "else:\n",
    "    print(\"Está muito frio\")  "
   ]
  }
 ],
 "metadata": {
  "kernelspec": {
   "display_name": "Python 3",
   "language": "python",
   "name": "python3"
  },
  "language_info": {
   "codemirror_mode": {
    "name": "ipython",
    "version": 3
   },
   "file_extension": ".py",
   "mimetype": "text/x-python",
   "name": "python",
   "nbconvert_exporter": "python",
   "pygments_lexer": "ipython3",
   "version": "3.13.2"
  }
 },
 "nbformat": 4,
 "nbformat_minor": 5
}
