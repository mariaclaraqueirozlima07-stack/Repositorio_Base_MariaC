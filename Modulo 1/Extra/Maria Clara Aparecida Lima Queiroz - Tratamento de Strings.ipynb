{
 "cells": [
  {
   "cell_type": "markdown",
   "id": "423a416a",
   "metadata": {},
   "source": [
    "### Tratamentos de Texto (string)\n",
    "\n",
    "Objetivo: Mostrar a importância de manipular textos em programação.\n",
    "\n",
    "\n",
    "\n",
    "\"Vocês já pensaram como os apps sabem seu nome quando você faz login? Ou como o Instagram mostra seu username em letras minúsculas? Tudo isso usa tratamento de strings!\"\n",
    "\n",
    "O que é uma String?\n",
    "\n",
    "Sequência de caracteres (letras, números, símbolos).\n",
    "\n",
    "Em Python, vem entre \"aspas\"."
   ]
  },
  {
   "cell_type": "markdown",
   "id": "5f38bab9",
   "metadata": {},
   "source": [
    "### 2 - Operações Básicas com strings (textos)\n",
    "\n",
    "a) Juntar textos ou em outras palavras concatenar"
   ]
  },
  {
   "cell_type": "code",
   "execution_count": 2,
   "id": "5cd6b8e7",
   "metadata": {},
   "outputs": [
    {
     "name": "stdout",
     "output_type": "stream",
     "text": [
      "Mateus Silva\n"
     ]
    }
   ],
   "source": [
    "nome = \"Mateus\"  \n",
    "sobrenome = \"Silva\"  \n",
    "nome_completo = nome + \" \" + sobrenome  \n",
    "print(nome_completo) "
   ]
  },
  {
   "cell_type": "code",
   "execution_count": 1,
   "id": "a03ea409",
   "metadata": {},
   "outputs": [
    {
     "name": "stdout",
     "output_type": "stream",
     "text": [
      "Maria Clara Queiroz\n"
     ]
    }
   ],
   "source": [
    "nome = \"Maria Clara\"\n",
    "sobrenome = \"Queiroz\"\n",
    "nome_completo = nome + \" \" + sobrenome\n",
    "print(nome_completo)"
   ]
  },
  {
   "cell_type": "markdown",
   "id": "f2fddf3a",
   "metadata": {},
   "source": [
    "b) Tamanho da String\n"
   ]
  },
  {
   "cell_type": "code",
   "execution_count": 4,
   "id": "1a01fe4d",
   "metadata": {},
   "outputs": [
    {
     "name": "stdout",
     "output_type": "stream",
     "text": [
      "11\n"
     ]
    }
   ],
   "source": [
    "tamanho = len(nome)\n",
    "print(tamanho)\n"
   ]
  },
  {
   "cell_type": "code",
   "execution_count": null,
   "id": "04df37a4",
   "metadata": {},
   "outputs": [
    {
     "name": "stdout",
     "output_type": "stream",
     "text": [
      "Esta na média\n"
     ]
    }
   ],
   "source": [
    "# Qual é o tamanho?\n",
    "nome = input(\"Qual é o seu nome\")\n",
    "tamanho = len(nome)\n",
    "\n",
    "if tamanho >=6:\n",
    "    print(\"Que nome grande\")\n",
    "elif tamanho == 5:\n",
    "    print(\"Esta na média\")\n",
    "else:\n",
    "    print(\"Que nome pequeno\")\n"
   ]
  },
  {
   "cell_type": "markdown",
   "id": "6222c7c4",
   "metadata": {},
   "source": [
    "c) Acessar Letras (Índices)"
   ]
  },
  {
   "cell_type": "code",
   "execution_count": null,
   "id": "21af5f71",
   "metadata": {},
   "outputs": [
    {
     "name": "stdout",
     "output_type": "stream",
     "text": [
      "O\n",
      "a\n"
     ]
    }
   ],
   "source": [
    "frase = \"Olá meus garotos(a) de Programa\"  \n",
    "print(frase[0])   # 'O' (primeira letra)  \n",
    "print(frase[-1])  # 'a' (última letra)"
   ]
  },
  {
   "cell_type": "code",
   "execution_count": 18,
   "id": "25de292e",
   "metadata": {},
   "outputs": [
    {
     "name": "stdout",
     "output_type": "stream",
     "text": [
      "M\n",
      "z\n"
     ]
    }
   ],
   "source": [
    "meu_nome = \"Maria Clara Aparecida Lima Queiroz\"\n",
    "print(meu_nome[0])   # 'M' (primeira letra)  \n",
    "print(meu_nome[-1])  # 'z' (última letra)"
   ]
  },
  {
   "cell_type": "markdown",
   "id": "05b42fdb",
   "metadata": {},
   "source": [
    "d) Fatiamento (Slicing)"
   ]
  },
  {
   "cell_type": "code",
   "execution_count": null,
   "id": "50f44874",
   "metadata": {},
   "outputs": [
    {
     "name": "stdout",
     "output_type": "stream",
     "text": [
      "mateus\n",
      "@gmail.com\n"
     ]
    }
   ],
   "source": [
    "email = \"mateus@gmail.com\"  \n",
    "print(email[:6])    # \"mateus\" (do início até o índice 6)  \n",
    "print(email[6:16])  # \"gmail\" (do índice 7 ao 15)"
   ]
  },
  {
   "cell_type": "code",
   "execution_count": 11,
   "id": "d3b0ae90",
   "metadata": {},
   "outputs": [
    {
     "name": "stdout",
     "output_type": "stream",
     "text": [
      "maria\n",
      "@gamil.com\n"
     ]
    }
   ],
   "source": [
    "email = \"maria@gamil.com\"\n",
    "print(email[:5])   # \"maria\" (do início até o 5)\n",
    "print(email[5:16]) # \"gmail\" (do índice 7 ao 15)"
   ]
  },
  {
   "cell_type": "markdown",
   "id": "6f09cf29",
   "metadata": {},
   "source": [
    "### 3. Métodos Úteis"
   ]
  },
  {
   "cell_type": "markdown",
   "id": "0f891d89",
   "metadata": {},
   "source": [
    "a) Conversão de minúsculas para maiúsculas "
   ]
  },
  {
   "cell_type": "code",
   "execution_count": 9,
   "id": "87258ddf",
   "metadata": {},
   "outputs": [
    {
     "name": "stdout",
     "output_type": "stream",
     "text": [
      "python é demais!\n",
      "PYTHON É DEMAIS!\n"
     ]
    }
   ],
   "source": [
    "texto = \"Python é Demais!\"  \n",
    "print(texto.lower())   # \"python é demais!\"  \n",
    "print(texto.upper())   # \"PYTHON É DEMAIS!\""
   ]
  },
  {
   "cell_type": "code",
   "execution_count": 12,
   "id": "21fdcc6d",
   "metadata": {},
   "outputs": [
    {
     "name": "stdout",
     "output_type": "stream",
     "text": [
      "boa tarde\n",
      "BOA TARDE\n"
     ]
    }
   ],
   "source": [
    "frase_igual = \"Boa Tarde\"\n",
    "print(frase_igual.lower())   # \"BoA TarDe\"\n",
    "print(frase_igual.upper())   # \"bOa tARdE\""
   ]
  },
  {
   "cell_type": "markdown",
   "id": "926010d9",
   "metadata": {},
   "source": [
    "b) Substituição"
   ]
  },
  {
   "cell_type": "code",
   "execution_count": 14,
   "id": "29a44197",
   "metadata": {},
   "outputs": [
    {
     "name": "stdout",
     "output_type": "stream",
     "text": [
      "Eu adoro segunda-feira\n"
     ]
    }
   ],
   "source": [
    "mensagem = \"Eu odeio segunda-feira\"\n",
    "print(mensagem.replace(\"odeio\", \"adoro\")) # \"Eu adoro segunda-feira\""
   ]
  },
  {
   "cell_type": "code",
   "execution_count": 15,
   "id": "ef654304",
   "metadata": {},
   "outputs": [
    {
     "name": "stdout",
     "output_type": "stream",
     "text": [
      "Eu adoro a Escola\n"
     ]
    }
   ],
   "source": [
    "mensagem = \"Eu odeio a Escola\"\n",
    "print(mensagem.replace(\"odeio\", \"adoro\")) # \"Eu adoro a Escola\""
   ]
  },
  {
   "cell_type": "code",
   "execution_count": 19,
   "id": "13784665",
   "metadata": {},
   "outputs": [
    {
     "name": "stdout",
     "output_type": "stream",
     "text": [
      "Maria Queiroz\n"
     ]
    }
   ],
   "source": [
    "frase = input(\"Digite um nome\")\n",
    "frase = \"Maria Clara\"\n",
    "print(frase.replace(\"Clara\", \"Queiroz\")) # \"Maria Queiroz\""
   ]
  },
  {
   "cell_type": "markdown",
   "id": "bf5e453f",
   "metadata": {},
   "source": [
    "c) Divisão de Strings"
   ]
  },
  {
   "cell_type": "code",
   "execution_count": null,
   "id": "164d4642",
   "metadata": {},
   "outputs": [
    {
     "name": "stdout",
     "output_type": "stream",
     "text": [
      "['python', 'programação', 'jovens']\n"
     ]
    }
   ],
   "source": [
    "hashtags = \"python#programação#jovens\"  \n",
    "print(hashtags.split(\"#\"))  # [\"python\", \"programação\", \"jovens\"]"
   ]
  },
  {
   "cell_type": "code",
   "execution_count": 22,
   "id": "3ea99765",
   "metadata": {},
   "outputs": [
    {
     "name": "stdout",
     "output_type": "stream",
     "text": [
      "['oprofessor', 'de', 'python', 'é', 'o', 'melhor']\n"
     ]
    }
   ],
   "source": [
    "ache_a_frase = \"oprofessor1de1python1é1o1melhor\"\n",
    "print(ache_a_frase.split(\"1\"))  # [\"oprofessor\", \"de\", \"python\", \"é\", \"o\", \"melhor\"] "
   ]
  },
  {
   "cell_type": "markdown",
   "id": "76a1722a",
   "metadata": {},
   "source": [
    "d) Remoção de Espaços"
   ]
  },
  {
   "cell_type": "code",
   "execution_count": 23,
   "id": "84eb0e89",
   "metadata": {},
   "outputs": [
    {
     "name": "stdout",
     "output_type": "stream",
     "text": [
      "olá\n"
     ]
    }
   ],
   "source": [
    "user_input = \"   olá   \"  \n",
    "print(user_input.strip())  # \"olá\" (remove espaços extras)"
   ]
  },
  {
   "cell_type": "code",
   "execution_count": 28,
   "id": "6c279dc5",
   "metadata": {},
   "outputs": [
    {
     "name": "stdout",
     "output_type": "stream",
     "text": [
      "Maria\n"
     ]
    }
   ],
   "source": [
    "meu_nome = \"          Maria          \"\n",
    "print(meu_nome.strip())  # \"Maria\" (remove espaços extras)"
   ]
  },
  {
   "cell_type": "markdown",
   "id": "f2ab3244",
   "metadata": {},
   "source": [
    "### 4 - Primeiro Desafio: Criar um \"Gerador de Username\" que:\n",
    "\n",
    "Pede o nome completo do usuário;\n",
    "\n",
    "Gera um username no formato nome.sobrenome (minúsculas, sem espaços)."
   ]
  },
  {
   "cell_type": "code",
   "execution_count": 1,
   "id": "f43a2dfe",
   "metadata": {},
   "outputs": [
    {
     "name": "stdout",
     "output_type": "stream",
     "text": [
      "Maria Clara Aparecida Lima Queiroz\n",
      "['maria', 'clara', 'aparecida', 'lima', 'queiroz']\n",
      "maria\n",
      "queiroz\n",
      "maria.queiroz\n"
     ]
    }
   ],
   "source": [
    "nome_completo = input(\"Digite seu nome completo\")\n",
    "nome_sem_espaço = nome_completo.strip()\n",
    "nome_minusculo = nome_sem_espaço.lower()\n",
    "print(nome_completo)\n",
    "quebra_nome = nome_minusculo.split(\" \")\n",
    "print(quebra_nome)\n",
    "primeiro_nome = quebra_nome[0]\n",
    "print(primeiro_nome)\n",
    "ultimo_nome = quebra_nome[-1]\n",
    "print(ultimo_nome)\n",
    "\n",
    "usuario = primeiro_nome + \".\" + ultimo_nome\n",
    "print(usuario)"
   ]
  },
  {
   "cell_type": "code",
   "execution_count": null,
   "id": "3621f27a",
   "metadata": {},
   "outputs": [
    {
     "name": "stdout",
     "output_type": "stream",
     "text": [
      "maria.clara.aparelida.lima.queiroz\n"
     ]
    }
   ],
   "source": [
    "nome = input(\"Digite seu primeiro e último nome\")\n",
    "print(nome.lower().replace(\" \", \".\"))"
   ]
  },
  {
   "cell_type": "code",
   "execution_count": 2,
   "id": "a335fcd4",
   "metadata": {},
   "outputs": [
    {
     "name": "stdout",
     "output_type": "stream",
     "text": [
      "Seu uúario é maria clara aparecida lima queiroz.\n"
     ]
    }
   ],
   "source": [
    "nome = input(\"Digite se nome\").strip().lower()\n",
    "sobrenome = input(\"Digite seu sobrenome\").strip().lower()\n",
    "\n",
    "usuario = nome + \".\" + sobrenome\n",
    "print(f\"Seu uúario é {usuario}\")"
   ]
  },
  {
   "cell_type": "markdown",
   "id": "25399d2d",
   "metadata": {},
   "source": [
    "### Segundo Desafio"
   ]
  },
  {
   "cell_type": "markdown",
   "id": "e790bc58",
   "metadata": {},
   "source": [
    "Verificar se uma senha tem pelo menos 8 caracteres:"
   ]
  },
  {
   "cell_type": "code",
   "execution_count": 17,
   "id": "2d9ff656",
   "metadata": {},
   "outputs": [
    {
     "name": "stdout",
     "output_type": "stream",
     "text": [
      "Senha Aprovada\n"
     ]
    }
   ],
   "source": [
    "senha = input(\"digite uma senha\")\n",
    "senha_caracteres = len(senha)\n",
    "\n",
    "if senha_caracteres >=8:\n",
    "    print(\"Senha Aprovada\")\n",
    "else:\n",
    "    print(\"Senha Reprovada\")"
   ]
  },
  {
   "cell_type": "markdown",
   "id": "a58aa74f",
   "metadata": {},
   "source": [
    "### 5. Exercício Final (Para Casa)\n",
    "\n",
    "Crie um \"Tradutor de Internetês\":\n",
    "\n",
    "Substitui palavras por abreviações (ex: \"você\" → \"vc\", \"tamo junto\" → \"tmj\").\n",
    "\n",
    "Dica: Use .replace() múltiplas vezes!"
   ]
  },
  {
   "cell_type": "code",
   "execution_count": 10,
   "id": "abf41fae",
   "metadata": {},
   "outputs": [
    {
     "name": "stdout",
     "output_type": "stream",
     "text": [
      "Vc pode contar comigo sempre, tmj\n"
     ]
    }
   ],
   "source": [
    "frase = \"Você pode contar comigo sempre, tamo junto\"\n",
    "print(frase.replace(\"Você\", \"Vc\").replace(\"tamo junto\", \"tmj\")) # \"Vc pode contar comigo sempre, tmj\""
   ]
  },
  {
   "cell_type": "markdown",
   "id": "babd7a7c",
   "metadata": {},
   "source": [
    "### 6. Conclusão\n",
    "Recapitulação:\n",
    "\n",
    "Strings são textos delimitados por aspas.\n",
    "\n",
    "Podemos acessar letras, fatiar, converter, dividir e muito mais!\n",
    "\n",
    "Próxima Aula:\n",
    "\n",
    "Trabalhar com listas e loops em strings (ex: contar vogais).\n",
    "\n",
    "Feedback:\n",
    "\n",
    "\"O que vocês acharam mais útil? Alguma dúvida para tirar?\""
   ]
  },
  {
   "cell_type": "markdown",
   "id": "f1831e9c",
   "metadata": {},
   "source": [
    "### Calcule a média"
   ]
  },
  {
   "cell_type": "code",
   "execution_count": 23,
   "id": "b00ae257",
   "metadata": {},
   "outputs": [
    {
     "name": "stdout",
     "output_type": "stream",
     "text": [
      "Você tirou as seguintes notas: 10.0, 10.0, 10.0\n",
      "Você foi aprovada\n"
     ]
    }
   ],
   "source": [
    "nota1 = float(input(\"Digite a primeira nota\"))\n",
    "nota2 = float(input(\"Digite a segunda nota\"))\n",
    "nota3 = float(input(\"Digite a terceira nota\"))\n",
    "\n",
    "media = (nota1 + nota2 + nota3)/3\n",
    "\n",
    "print(f\"Você tirou as seguintes notas: {nota1}, {nota2}, {nota3}\")\n",
    "\n",
    "if media >=5:\n",
    "    print(\"Você foi aprovada\")\n",
    "elif media == 3:\n",
    "    print(\"Você esta de recuperação\")\n",
    "else:\n",
    "    print(\"Você foi reprovada\")"
   ]
  }
 ],
 "metadata": {
  "kernelspec": {
   "display_name": "Python 3",
   "language": "python",
   "name": "python3"
  },
  "language_info": {
   "codemirror_mode": {
    "name": "ipython",
    "version": 3
   },
   "file_extension": ".py",
   "mimetype": "text/x-python",
   "name": "python",
   "nbconvert_exporter": "python",
   "pygments_lexer": "ipython3",
   "version": "3.13.2"
  }
 },
 "nbformat": 4,
 "nbformat_minor": 5
}
