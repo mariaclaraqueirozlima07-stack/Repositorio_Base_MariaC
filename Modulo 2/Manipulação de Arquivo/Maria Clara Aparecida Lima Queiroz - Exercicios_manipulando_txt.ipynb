{
 "cells": [
  {
   "cell_type": "markdown",
   "id": "ec2b2ae4",
   "metadata": {},
   "source": [
    "### Exercício 1: Criando e escrevendo em um arquivo\n",
    "\n",
    "Crie um arquivo chamado meu_arquivo.txt e escreva nele a seguinte frase: \"Estou criando esse arquivo de texto em Python!\""
   ]
  },
  {
   "cell_type": "code",
   "execution_count": 25,
   "id": "cffe2a6d",
   "metadata": {},
   "outputs": [],
   "source": [
    "\n",
    "with open('meu_arquivo.txt', 'w') as f:\n",
    "    f.write(\"Estou criando esse arquivo de texto em Python!\\n\")"
   ]
  },
  {
   "cell_type": "markdown",
   "id": "4b3f7a89",
   "metadata": {},
   "source": [
    "### Exercício 2: Lendo o conteúdo do arquivo\n",
    "\n",
    "\n",
    "Agora leia o conteúdo do arquivo meu_arquivo.txt que você criou no exercício anterior e mostre-o na tela."
   ]
  },
  {
   "cell_type": "code",
   "execution_count": 26,
   "id": "e5edc612",
   "metadata": {},
   "outputs": [
    {
     "name": "stdout",
     "output_type": "stream",
     "text": [
      "Estou criando esse arquivo de texto em Python!\n",
      "\n"
     ]
    }
   ],
   "source": [
    "with open('meu_arquivo.txt', 'r', encoding='utf-8') as f:\n",
    "    conteudo = f.read()\n",
    "    print(conteudo)"
   ]
  },
  {
   "cell_type": "markdown",
   "id": "8184fdba",
   "metadata": {},
   "source": [
    "### Exercício 3: Adicionando mais texto\n",
    "\n",
    "Adicione a seguinte frase em uma nova linha do mesmo arquivo: \"Agora estou aprendendo a manipular arquivos!\""
   ]
  },
  {
   "cell_type": "code",
   "execution_count": 27,
   "id": "723d1e8d",
   "metadata": {},
   "outputs": [],
   "source": [
    "with open('meu_arquivo.txt', 'a') as f:\n",
    "    f.write(\"Agora estou aprendendo a manipular arquivos!\\n\")\n"
   ]
  },
  {
   "cell_type": "markdown",
   "id": "82c4eb19",
   "metadata": {},
   "source": [
    "### Exercício 4: Contando linhas\n",
    "\n",
    "Crie um programa que conta quantas linhas tem o arquivo meu_arquivo.txt e mostra o resultado."
   ]
  },
  {
   "cell_type": "code",
   "execution_count": 28,
   "id": "fd757b5e",
   "metadata": {},
   "outputs": [
    {
     "name": "stdout",
     "output_type": "stream",
     "text": [
      "2\n"
     ]
    }
   ],
   "source": [
    "with open('meu_arquivo.txt', 'r', encoding='utf-8') as f:\n",
    "    conteudo = f.readlines()\n",
    "    print(len(conteudo))"
   ]
  },
  {
   "cell_type": "markdown",
   "id": "6bc0b78f",
   "metadata": {},
   "source": [
    "### Exercício 5: Lista de compras\n",
    "\n",
    "Crie um arquivo chamado compras.txt e escreva nele, cada um em uma linha, os seguintes itens: \"Maçã\", \"Banana\", \"Leite\", \"Pão\"."
   ]
  },
  {
   "cell_type": "code",
   "execution_count": 16,
   "id": "97bb5660",
   "metadata": {},
   "outputs": [],
   "source": [
    "with open('compras.txt', 'w', encoding='utf-8') as f:\n",
    "    f.write(\"Maçã\\n\")\n",
    "    f.write(\"Banana\\n\")\n",
    "    f.write(\"Leite\\n\")\n",
    "    f.write(\"Pão\\n\")\n",
    "\n"
   ]
  },
  {
   "cell_type": "markdown",
   "id": "71cf0898",
   "metadata": {},
   "source": [
    "### Exercício 6: Lendo linhas específicas\n",
    "\n",
    "\n",
    "Leia o arquivo compras.txt e mostre apenas o segundo item da lista (Banana)."
   ]
  },
  {
   "cell_type": "code",
   "execution_count": 17,
   "id": "6d705e94",
   "metadata": {},
   "outputs": [
    {
     "name": "stdout",
     "output_type": "stream",
     "text": [
      "Maçã\n",
      "Banana\n",
      "Leite\n",
      "Pão\n",
      "\n"
     ]
    }
   ],
   "source": [
    "with open('compras.txt', 'r', encoding='utf-8') as f:\n",
    "    conteudo = f.read()\n",
    "    print(conteudo)"
   ]
  },
  {
   "cell_type": "markdown",
   "id": "bc372146",
   "metadata": {},
   "source": [
    "### Exercício 7: Adicionando itens\n",
    "\n",
    "Peça ao usuário para digitar um novo item e adicione-o ao final da lista no arquivo compras.txt."
   ]
  },
  {
   "cell_type": "code",
   "execution_count": 19,
   "id": "a6e7617c",
   "metadata": {},
   "outputs": [],
   "source": [
    "with open('compras.txt', 'a') as f:\n",
    "    f.write(\"Laranja\\n\")"
   ]
  },
  {
   "cell_type": "markdown",
   "id": "b434b909",
   "metadata": {},
   "source": [
    "### Exercício 8: Copiando arquivos\n",
    "\n",
    "Crie um programa que copia todo o conteúdo de meu_arquivo.txt para um novo arquivo chamado copia.txt."
   ]
  },
  {
   "cell_type": "code",
   "execution_count": 54,
   "id": "3aab9832",
   "metadata": {},
   "outputs": [
    {
     "name": "stdout",
     "output_type": "stream",
     "text": [
      "Estou criando esse arquivo de texto em Python!\n",
      "Agora estou aprendendo a manipular arquivos!\n",
      "\n"
     ]
    }
   ],
   "source": [
    "with open('meu_arquivo.txt', 'r', encoding='utf-8') as f:\n",
    "    conteudo = f.read()\n",
    "    print(conteudo)\n",
    "\n",
    "with open('copia.txt', 'w') as f:\n",
    "    f.write('meu_arquivo.txt')\n"
   ]
  },
  {
   "cell_type": "markdown",
   "id": "b24e8386",
   "metadata": {},
   "source": [
    "### Exercício 9: Contando palavras\n",
    "\n",
    "Crie um programa que conta quantas palavras tem no arquivo meu_arquivo.txt (considere que as palavras são separadas por espaços)."
   ]
  },
  {
   "cell_type": "code",
   "execution_count": 6,
   "id": "896d7462",
   "metadata": {},
   "outputs": [
    {
     "name": "stdout",
     "output_type": "stream",
     "text": [
      "14\n"
     ]
    }
   ],
   "source": [
    "with open('meu_arquivo.txt', 'r', encoding='utf-8') as f:\n",
    "    conteudo = f.read()\n",
    "    palavra = conteudo.split()\n",
    "    print(len(palavra))"
   ]
  },
  {
   "cell_type": "markdown",
   "id": "3bbe37c9",
   "metadata": {},
   "source": [
    "### Exercício 10: Juntando arquivos\n",
    "\n",
    "\n",
    "Crie um programa que lê o conteúdo de meu_arquivo.txt e compras.txt e cria um novo arquivo chamado juntado.txt com o conteúdo dos dois arquivos, um após o outro."
   ]
  },
  {
   "cell_type": "code",
   "execution_count": 57,
   "id": "c932924e",
   "metadata": {},
   "outputs": [
    {
     "name": "stdout",
     "output_type": "stream",
     "text": [
      "Estou criando esse arquivo de texto em Python!\n",
      "Agora estou aprendendo a manipular arquivos!\n",
      "\n",
      "Maçã\n",
      "Banana\n",
      "Leite\n",
      "Pão\n",
      "Laranja\n",
      "\n"
     ]
    }
   ],
   "source": [
    "with open('meu_arquivo.txt', 'r', encoding='utf-8') as f:\n",
    "    conteudo = f.read()\n",
    "    print(conteudo)\n",
    "\n",
    "with open('compras.txt', 'r', encoding='utf-8') as f:\n",
    "    conteudo = f.read()\n",
    "    print(conteudo)\n",
    "\n",
    "with open('juntado.txt', 'w') as f:\n",
    "    f.write('meu_arquivo.txt\\n')\n",
    "    f.write('compras.txt\\n')"
   ]
  }
 ],
 "metadata": {
  "kernelspec": {
   "display_name": "Python 3",
   "language": "python",
   "name": "python3"
  },
  "language_info": {
   "codemirror_mode": {
    "name": "ipython",
    "version": 3
   },
   "file_extension": ".py",
   "mimetype": "text/x-python",
   "name": "python",
   "nbconvert_exporter": "python",
   "pygments_lexer": "ipython3",
   "version": "3.13.2"
  }
 },
 "nbformat": 4,
 "nbformat_minor": 5
}
